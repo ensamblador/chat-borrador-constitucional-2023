{
 "cells": [
  {
   "cell_type": "code",
   "execution_count": 23,
   "metadata": {},
   "outputs": [],
   "source": [
    "from langchain.document_loaders import PyPDFLoader\n",
    "from langchain.text_splitter import RecursiveCharacterTextSplitter, CharacterTextSplitter\n"
   ]
  },
  {
   "cell_type": "markdown",
   "metadata": {},
   "source": [
    "# 1. Load Document"
   ]
  },
  {
   "cell_type": "code",
   "execution_count": 24,
   "metadata": {},
   "outputs": [],
   "source": [
    "loader = PyPDFLoader(\"docs/Texto-aprobado-Consejo-Constitucional_06.10.23.pdf\")\n",
    "pages = loader.load()"
   ]
  },
  {
   "cell_type": "code",
   "execution_count": 25,
   "metadata": {},
   "outputs": [
    {
     "data": {
      "text/plain": [
       "107"
      ]
     },
     "execution_count": 25,
     "metadata": {},
     "output_type": "execute_result"
    }
   ],
   "source": [
    "len(pages)"
   ]
  },
  {
   "cell_type": "code",
   "execution_count": 26,
   "metadata": {},
   "outputs": [
    {
     "data": {
      "text/plain": [
       "2912"
      ]
     },
     "execution_count": 26,
     "metadata": {},
     "output_type": "execute_result"
    }
   ],
   "source": [
    "len(pages[0].page_content)"
   ]
  },
  {
   "cell_type": "code",
   "execution_count": 27,
   "metadata": {},
   "outputs": [
    {
     "name": "stdout",
     "output_type": "stream",
     "text": [
      " \n",
      "1 \n",
      "  \n",
      "TEXTO APROBADO POR EL CONSEJO CONSTITUCIONAL  \n",
      " \n",
      " \n",
      "CAPÍTULO I  \n",
      " \n",
      "FUNDAMENTOS DEL ORDEN CONSTITUCIONAL  \n",
      " \n",
      "Artículo 1  \n",
      " \n",
      "1. La dignidad humana es inviolable y la base del derecho y la justicia. Las personas nacen \n",
      "libres e iguales en dignidad y derechos. Su respeto y garantía es el primer deber de la \n",
      "comunidad política y de su forma jurídica de organización.  \n",
      " \n",
      "2. La familia es el núcleo fundamental de la sociedad. Es deber del Estado y la sociedad dar \n",
      "protección a las familias y propender a su for talecimiento.  \n",
      " \n",
      "3. Las agrupaciones que libremente surjan entre las personas gozarán de la adecuada \n",
      "autonomía para cumplir sus fines específicos que no sean contrarios a la Constitución. El \n",
      "Estado respetará los efectos de este reconocimiento . \n",
      " \n",
      "Artículo 2  \n",
      " \n",
      "1. El Estado de Chile es social y democrático de derecho, que reconoce  derechos y libertades \n",
      "fundamentales, deberes constitucionales, y promueve el desarrollo progresivo de los \n",
      "derechos sociales, con sujeción al pri\n"
     ]
    }
   ],
   "source": [
    "print(pages[0].page_content[0:1000])"
   ]
  },
  {
   "cell_type": "code",
   "execution_count": 28,
   "metadata": {},
   "outputs": [
    {
     "data": {
      "text/plain": [
       "{'source': 'docs/Texto-aprobado-Consejo-Constitucional_06.10.23.pdf',\n",
       " 'page': 0}"
      ]
     },
     "execution_count": 28,
     "metadata": {},
     "output_type": "execute_result"
    }
   ],
   "source": [
    "pages[0].metadata"
   ]
  },
  {
   "cell_type": "markdown",
   "metadata": {},
   "source": [
    "# 2. Split Document (1500, 300)"
   ]
  },
  {
   "cell_type": "code",
   "execution_count": 29,
   "metadata": {},
   "outputs": [],
   "source": [
    "text_splitter = RecursiveCharacterTextSplitter(\n",
    "    separators=[\"\\n\\n\", \"\\n\", \"\\. \", \" \", \"\"],\n",
    "    chunk_size=1500,\n",
    "    chunk_overlap=300,\n",
    "    length_function=len\n",
    ")"
   ]
  },
  {
   "cell_type": "code",
   "execution_count": 33,
   "metadata": {},
   "outputs": [],
   "source": [
    "docs = text_splitter.split_documents(pages)"
   ]
  },
  {
   "cell_type": "code",
   "execution_count": 34,
   "metadata": {},
   "outputs": [
    {
     "data": {
      "text/plain": [
       "308"
      ]
     },
     "execution_count": 34,
     "metadata": {},
     "output_type": "execute_result"
    }
   ],
   "source": [
    "len(docs)"
   ]
  },
  {
   "cell_type": "code",
   "execution_count": 35,
   "metadata": {},
   "outputs": [
    {
     "name": "stdout",
     "output_type": "stream",
     "text": [
      "1 \n",
      "  \n",
      "TEXTO APROBADO POR EL CONSEJO CONSTITUCIONAL  \n",
      " \n",
      " \n",
      "CAPÍTULO I  \n",
      " \n",
      "FUNDAMENTOS DEL ORDEN CONSTITUCIONAL  \n",
      " \n",
      "Artículo 1  \n",
      " \n",
      "1. La dignidad humana es inviolable y la base del derecho y la justicia. Las personas nacen \n",
      "libres e iguales en dignidad y derechos. Su respeto y garantía es el primer deber de la \n",
      "comunidad política y de su forma jurídica de organización.  \n",
      " \n",
      "2. La familia es el núcleo fundamental de la sociedad. Es deber del Estado y la sociedad dar \n",
      "protección a las familias y propender a su for talecimiento.  \n",
      " \n",
      "3. Las agrupaciones que libremente surjan entre las personas gozarán de la adecuada \n",
      "autonomía para cumplir sus fines específicos que no sean contrarios a la Constitución. El \n",
      "Estado respetará los efectos de este reconocimiento . \n",
      " \n",
      "Artículo 2  \n",
      " \n",
      "1. El Estado de Chile es social y democrático de derecho, que reconoce  derechos y libertades \n",
      "fundamentales, deberes constitucionales, y promueve el desarrollo progresivo de los \n",
      "derechos sociales, con sujeción al principio de responsabilidad fiscal y a través de \n",
      "instituciones estatales y privadas.  \n",
      " \n",
      "2. El Estado deberá  servir a las personas y a la sociedad y su finalidad es promover el bien \n",
      "común, para lo cual debe crear y contribuir a crear las condiciones sociales que permitan  a \n",
      "todos y cada uno de  los integrantes de la comunidad nacional su mayor realización espiritual \n",
      "y material posible, con pleno respeto de los derechos y garantías que esta Constitución \n",
      "establece.  \n",
      " \n",
      "Artículo 3\n",
      "todos y cada uno de  los integrantes de la comunidad nacional su mayor realización espiritual \n",
      "y material posible, con pleno respeto de los derechos y garantías que esta Constitución \n",
      "establece.  \n",
      " \n",
      "Artículo 3  \n",
      " \n",
      "1. El Estado de Chile adopta para su gobierno la  república democrática, con separación de \n",
      "poderes y régimen presidencial. La soberanía reside en el Pueblo  de Chile, Nación  única e \n",
      "indivisible, y se ejerce por este a través de elecciones periódicas, plebiscitos y de las \n",
      "autoridades que esta Constitución establece. Ningún sector del pueblo, persona, institución o \n",
      "grupo puede atribuirse su ejercicio.  \n",
      " \n",
      "2. La ley promoverá el acceso igualitario de mujeres y hombres a los mandatos electorales y \n",
      "cargos de elección popular, así como su participación en condicion es de igualdad en los \n",
      "distintos ámbitos de la vida nacional. El Estado garantizará el ejercicio de la participación \n",
      "política de las mujeres.  \n",
      " \n",
      "Artículo 4  \n",
      " \n",
      "1. La Constitución, en tanto norma suprema del ordenamiento jurídico, consagra como límite \n",
      "al ejercici o de la soberanía el respeto de los derechos esenciales que emanan de la naturaleza \n",
      "humana, reconocidos por esta Constitución, así como por los tratados internacionales \n",
      "ratificados por Chile y que se encuentren vigentes. Es deber de los órganos del Estado \n",
      "respetar, proteger y garantizar tales derechos.  \n",
      " \n",
      "2. Las normas de derecho interno deberán interpretarse de forma compatible con la\n"
     ]
    },
    {
     "data": {
      "text/plain": [
       "(None, None)"
      ]
     },
     "execution_count": 35,
     "metadata": {},
     "output_type": "execute_result"
    }
   ],
   "source": [
    "print(docs[0].page_content), print(docs[1].page_content)"
   ]
  },
  {
   "cell_type": "markdown",
   "metadata": {},
   "source": [
    "# 3. Create Embeddings"
   ]
  },
  {
   "cell_type": "code",
   "execution_count": 36,
   "metadata": {},
   "outputs": [],
   "source": [
    "from langchain.embeddings import BedrockEmbeddings \n",
    "bedrock_embeddings = BedrockEmbeddings(model_id=\"amazon.titan-embed-text-v1\")"
   ]
  },
  {
   "cell_type": "code",
   "execution_count": 37,
   "metadata": {},
   "outputs": [
    {
     "data": {
      "text/plain": [
       "[0.51953125, 0.44921875, 0.32421875]"
      ]
     },
     "execution_count": 37,
     "metadata": {},
     "output_type": "execute_result"
    }
   ],
   "source": [
    "bedrock_embeddings.embed_query(text=\"Hola Mundo\")[:3]"
   ]
  },
  {
   "cell_type": "markdown",
   "metadata": {},
   "source": []
  },
  {
   "cell_type": "code",
   "execution_count": 38,
   "metadata": {},
   "outputs": [],
   "source": [
    "from langchain.vectorstores import Chroma"
   ]
  },
  {
   "cell_type": "code",
   "execution_count": 41,
   "metadata": {},
   "outputs": [],
   "source": [
    "persist_directory = 'docs/chroma/'\n",
    "!rm -rf ./docs/chroma  # remove old database files if any"
   ]
  },
  {
   "cell_type": "code",
   "execution_count": 42,
   "metadata": {},
   "outputs": [
    {
     "name": "stdout",
     "output_type": "stream",
     "text": [
      "308\n",
      "CPU times: user 2.14 s, sys: 365 ms, total: 2.51 s\n",
      "Wall time: 1min 33s\n"
     ]
    }
   ],
   "source": [
    "%%time\n",
    "vectordb = Chroma.from_documents(\n",
    "    documents=docs,\n",
    "    embedding=bedrock_embeddings,\n",
    "    persist_directory=persist_directory\n",
    ")\n",
    "print(vectordb._collection.count())"
   ]
  },
  {
   "cell_type": "code",
   "execution_count": 43,
   "metadata": {},
   "outputs": [
    {
     "name": "stdout",
     "output_type": "stream",
     "text": [
      "CPU times: user 7.77 ms, sys: 2.21 ms, total: 9.98 ms\n",
      "Wall time: 848 ms\n"
     ]
    }
   ],
   "source": [
    "%%time\n",
    "question = \"como la constitución protege el derecho a la propiedad?\"\n",
    "responses = vectordb.similarity_search(question,k=3)"
   ]
  },
  {
   "cell_type": "code",
   "execution_count": 44,
   "metadata": {},
   "outputs": [
    {
     "data": {
      "text/plain": [
       "[Document(page_content='16 \\n  \\nSolo en virtud de una ley de quorum  calificado, y siempre que no signifique tal \\ndiscriminación, se podrán autorizar determinados beneficios directos o indirectos en favor de \\nalgún sector, actividad o zona geográfica, o establecer gravámenes especiales que afecten a \\nuno u otras. En el caso de las franquicias o beneficios  indirectos, la estimación del costo de \\nestos deberá incluirse anualmente en la Ley de Presupuestos.  \\n \\n34. La libertad para adquirir el dominio de toda clase de bienes, excepto aquellos que la \\nnaturaleza ha hecho comunes a todas las personas o que deban per tenecer a la Nación toda y \\nla ley lo declare así. Lo anterior es sin perjuicio de lo prescrito en otros preceptos de esta \\nConstitución.  \\n \\nUna ley de quorum  calificado, cuando así lo exija el interés nacional, podrá establecer \\nlimitaciones o requisitos para  la adquisición del dominio de algunos bienes.  \\n \\n35. El derecho de propiedad en sus diversas especies sobre toda clase de bienes corporales o \\nincorporales.  \\n \\na) Solo la ley puede establecer el modo de adquirir la propiedad, de usar, gozar y \\ndisponer de ella  y las limitaciones y obligaciones que deriven de su función social. Esta \\ncomprende cuanto exijan los intereses generales y la seguridad de la Nación, la utilidad \\ny la salubridad pública, y la conservación del patrimonio ambiental.  \\n \\nb) Nadie puede, en caso alguno, ser privado de su propiedad, del bien sobre que recae', metadata={'page': 15, 'source': 'docs/Texto-aprobado-Consejo-Constitucional_06.10.23.pdf'}),\n",
       " Document(page_content='conformidad con la ley.  \\n \\n36. El derecho de autor sobre sus obras y de la propiedad intelectual.  \\n \\na) El Estado reconoce el derecho del autor sobre sus creaciones intelectuales, artísticas \\ny científicas, el que comprende la propiedad de las obras y otros derechos, como la \\npaternidad, la edición y la integridad de la obra, todo ello en conformidad y por el \\ntiempo que señale la ley, el que no será inferior al de la vida del titular y los derechos \\nconexos que la ley asegure.  \\n \\nb) Se garantiza también la  propiedad industrial sobre las patentes de invención, marcas \\ncomerciales, modelos, diseños industriales, nuevas obtenciones vegetales, u otras \\ncreaciones análogas que determine la ley, por el tiempo que esta establezca.  \\n \\nc) Será aplicable a la propiedad d e las creaciones intelectuales y artísticas y a la \\npropiedad industrial lo prescrito en el inciso 35 precedente sobre el derecho de \\npropiedad.  \\n \\n37. En su condición de consumidores, el acceso a bienes y servicios de forma libre, informada \\ny segura. La ley regulará los derechos y deberes de los consumidores y proveedores, así como \\nlas garantías y procedimientos para hacerlos valer.', metadata={'page': 16, 'source': 'docs/Texto-aprobado-Consejo-Constitucional_06.10.23.pdf'}),\n",
       " Document(page_content='establecerá la forma para hacer efectivo este derecho.  \\n \\nc) Los tributos que se recauden, cualquiera que sea su naturalez a, ingresarán al \\npatrimonio de la Nación y no podrán estar afectos a un destino determinado.  \\n \\nd) Sin embargo, la ley podrá autorizar que determinados tributos puedan estar afectados \\na fines propios de la defensa nacional. Asimismo, la ley podrá autorizar que \\ndeterminados tributos que gravan actividades o bienes que tengan una clara \\nidentificación regional o local puedan ser aplicados, dentro de los marcos que la misma \\nley señale, por las autoridades regionales o comunales para el financiamiento d e obras \\nde desarrollo e inversión.  \\n \\ne) El Estado deberá compensar las cargas de interés público discriminatorias, \\ndesproporcionadas, de alcance confiscatorio o retroactivo.  \\n \\n32. El derecho a desarrollar cualquiera actividad económica que no sea contraria a  la salud \\npública, al orden público, o la seguridad de la Nación, respetando las normas legales que la \\nregulen.  \\n \\na) Una ley de quorum  calificado podrá autorizar al Estado y sus organismos para \\ndesarrollar actividades empresariales o participar en ellas. Estas actividades  estarán \\nsometidas a la legislación común aplicable a los particulares, sin perjuicio de las \\nexcepciones que, por motivos justificados, establezca dicha ley.  \\n \\nb) En ningún caso las sociedades y empresas estatales podrán regular, fiscalizar o', metadata={'page': 14, 'source': 'docs/Texto-aprobado-Consejo-Constitucional_06.10.23.pdf'})]"
      ]
     },
     "execution_count": 44,
     "metadata": {},
     "output_type": "execute_result"
    }
   ],
   "source": [
    "responses"
   ]
  },
  {
   "cell_type": "code",
   "execution_count": 45,
   "metadata": {},
   "outputs": [],
   "source": [
    "vectordb.persist()"
   ]
  },
  {
   "cell_type": "code",
   "execution_count": 46,
   "metadata": {},
   "outputs": [
    {
     "name": "stdout",
     "output_type": "stream",
     "text": [
      "308\n"
     ]
    }
   ],
   "source": [
    "print(vectordb._collection.count())"
   ]
  },
  {
   "cell_type": "code",
   "execution_count": 47,
   "metadata": {},
   "outputs": [
    {
     "data": {
      "text/plain": [
       "[Document(page_content='16 \\n  \\nSolo en virtud de una ley de quorum  calificado, y siempre que no signifique tal \\ndiscriminación, se podrán autorizar determinados beneficios directos o indirectos en favor de \\nalgún sector, actividad o zona geográfica, o establecer gravámenes especiales que afecten a \\nuno u otras. En el caso de las franquicias o beneficios  indirectos, la estimación del costo de \\nestos deberá incluirse anualmente en la Ley de Presupuestos.  \\n \\n34. La libertad para adquirir el dominio de toda clase de bienes, excepto aquellos que la \\nnaturaleza ha hecho comunes a todas las personas o que deban per tenecer a la Nación toda y \\nla ley lo declare así. Lo anterior es sin perjuicio de lo prescrito en otros preceptos de esta \\nConstitución.  \\n \\nUna ley de quorum  calificado, cuando así lo exija el interés nacional, podrá establecer \\nlimitaciones o requisitos para  la adquisición del dominio de algunos bienes.  \\n \\n35. El derecho de propiedad en sus diversas especies sobre toda clase de bienes corporales o \\nincorporales.  \\n \\na) Solo la ley puede establecer el modo de adquirir la propiedad, de usar, gozar y \\ndisponer de ella  y las limitaciones y obligaciones que deriven de su función social. Esta \\ncomprende cuanto exijan los intereses generales y la seguridad de la Nación, la utilidad \\ny la salubridad pública, y la conservación del patrimonio ambiental.  \\n \\nb) Nadie puede, en caso alguno, ser privado de su propiedad, del bien sobre que recae', metadata={'page': 15, 'source': 'docs/Texto-aprobado-Consejo-Constitucional_06.10.23.pdf'}),\n",
       " Document(page_content='conformidad con la ley.  \\n \\n36. El derecho de autor sobre sus obras y de la propiedad intelectual.  \\n \\na) El Estado reconoce el derecho del autor sobre sus creaciones intelectuales, artísticas \\ny científicas, el que comprende la propiedad de las obras y otros derechos, como la \\npaternidad, la edición y la integridad de la obra, todo ello en conformidad y por el \\ntiempo que señale la ley, el que no será inferior al de la vida del titular y los derechos \\nconexos que la ley asegure.  \\n \\nb) Se garantiza también la  propiedad industrial sobre las patentes de invención, marcas \\ncomerciales, modelos, diseños industriales, nuevas obtenciones vegetales, u otras \\ncreaciones análogas que determine la ley, por el tiempo que esta establezca.  \\n \\nc) Será aplicable a la propiedad d e las creaciones intelectuales y artísticas y a la \\npropiedad industrial lo prescrito en el inciso 35 precedente sobre el derecho de \\npropiedad.  \\n \\n37. En su condición de consumidores, el acceso a bienes y servicios de forma libre, informada \\ny segura. La ley regulará los derechos y deberes de los consumidores y proveedores, así como \\nlas garantías y procedimientos para hacerlos valer.', metadata={'page': 16, 'source': 'docs/Texto-aprobado-Consejo-Constitucional_06.10.23.pdf'}),\n",
       " Document(page_content='ejercicio de los derechos que asegura la Constitución requiere una autorización judicial \\nprevia.  \\n \\nh) Ninguna persona puede ser obligada a declarar contra sí misma o reconocer su \\nresponsabilidad. Tampoco podrán ser obligados a declarar en contra de aquella persona \\nsus ascendientes, descendientes, cónyuge, conviviente civil  y demás personas que, \\nsegún los casos y circunstancias, señale la ley.  \\n \\ni) En el proceso penal es irrenunciable la asistencia de un abogado defensor \\nproporcionado por el Estado si no nombrare uno en la oportunidad establecida por la \\nley.', metadata={'page': 6, 'source': 'docs/Texto-aprobado-Consejo-Constitucional_06.10.23.pdf'})]"
      ]
     },
     "execution_count": 47,
     "metadata": {},
     "output_type": "execute_result"
    }
   ],
   "source": [
    "docs_mmr = vectordb.max_marginal_relevance_search(question,k=3)\n",
    "docs_mmr"
   ]
  },
  {
   "cell_type": "code",
   "execution_count": null,
   "metadata": {},
   "outputs": [],
   "source": []
  }
 ],
 "metadata": {
  "kernelspec": {
   "display_name": ".venv",
   "language": "python",
   "name": "python3"
  },
  "language_info": {
   "codemirror_mode": {
    "name": "ipython",
    "version": 3
   },
   "file_extension": ".py",
   "mimetype": "text/x-python",
   "name": "python",
   "nbconvert_exporter": "python",
   "pygments_lexer": "ipython3",
   "version": "3.11.5"
  }
 },
 "nbformat": 4,
 "nbformat_minor": 2
}
