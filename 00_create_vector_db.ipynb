{
 "cells": [
  {
   "cell_type": "code",
   "execution_count": 3,
   "metadata": {},
   "outputs": [],
   "source": [
    "from langchain.document_loaders import PyPDFLoader\n",
    "from langchain.text_splitter import RecursiveCharacterTextSplitter, CharacterTextSplitter\n"
   ]
  },
  {
   "cell_type": "markdown",
   "metadata": {},
   "source": [
    "# 1. Load Document"
   ]
  },
  {
   "cell_type": "code",
   "execution_count": 4,
   "metadata": {},
   "outputs": [],
   "source": [
    "loader = PyPDFLoader(\"docs/Texto-aprobado-Consejo-Constitucional_06.10.23.pdf\")\n",
    "pages = loader.load()"
   ]
  },
  {
   "cell_type": "code",
   "execution_count": 5,
   "metadata": {},
   "outputs": [
    {
     "data": {
      "text/plain": [
       "107"
      ]
     },
     "execution_count": 5,
     "metadata": {},
     "output_type": "execute_result"
    }
   ],
   "source": [
    "len(pages)"
   ]
  },
  {
   "cell_type": "code",
   "execution_count": 6,
   "metadata": {},
   "outputs": [
    {
     "data": {
      "text/plain": [
       "2912"
      ]
     },
     "execution_count": 6,
     "metadata": {},
     "output_type": "execute_result"
    }
   ],
   "source": [
    "len(pages[0].page_content)"
   ]
  },
  {
   "cell_type": "code",
   "execution_count": 10,
   "metadata": {},
   "outputs": [
    {
     "name": "stdout",
     "output_type": "stream",
     "text": [
      " \n",
      "1 \n",
      "  \n",
      "TEXTO APROBADO POR EL CONSEJO CONSTITUCIONAL  \n",
      " \n",
      " \n",
      "CAPÍTULO I  \n",
      " \n",
      "FUNDAMENTOS DEL ORDEN CONSTITUCIONAL  \n",
      " \n",
      "Artículo 1  \n",
      " \n",
      "1. La dignidad humana es inviolable y la base del derecho y la justicia. Las personas nacen \n",
      "libres e iguales en dignidad y derechos. Su respeto y garantía es el primer deber de la \n",
      "comunidad política y de su forma jurídica de organización.  \n",
      " \n",
      "2. La familia es el núcleo fundamental de la sociedad. Es deber del Estado y la sociedad dar \n",
      "protección a las familias y propender a su for talecimiento.  \n",
      " \n",
      "3. Las agrupaciones que libremente surjan entre las personas gozarán de la adecuada \n",
      "autonomía para cumplir sus fines específicos que no sean contrarios a la Constitución. El \n",
      "Estado respetará los efectos de este reconocimiento . \n",
      " \n",
      "Artículo 2  \n",
      " \n",
      "1. El Estado de Chile es social y democrático de derecho, que reconoce  derechos y libertades \n",
      "fundamentales, deberes constitucionales, y promueve el desarrollo progresivo de los \n",
      "derechos sociales, con sujeción al principio de responsabilidad fiscal y a través de \n",
      "instituciones estatales y privadas.  \n",
      " \n",
      "2. El Estado deberá  servir a las personas y a la sociedad y su finalidad es promover el bien \n",
      "común, para lo cual debe crear y contribuir a crear las condiciones sociales que permitan  a \n",
      "todos y cada uno de  los integrantes de la comunidad nacional su mayor realización espiritual \n",
      "y material posible, con pleno respeto de los derechos y garantías que esta Constitución \n",
      "establece.  \n",
      " \n",
      "Artículo 3  \n",
      " \n",
      "1. El Estado de Chile adopta para su gobierno la  república democrática, con separación de \n",
      "poderes y régimen presidencial. La soberanía reside en el Pueblo  de Chile, Nación  única e \n",
      "indivisible, y se ejerce por este a través de elecciones periódicas, plebiscitos y de las \n",
      "autoridades que esta Constitución establece. Ningún sector del pueblo, persona, institución o \n",
      "grupo puede atribuirse su ejercicio.  \n",
      " \n",
      "2. La ley promoverá el acceso igualitario de mujeres y hombres a los mandatos electorales y \n",
      "carg\n"
     ]
    }
   ],
   "source": [
    "print(pages[0].page_content[0:2000])"
   ]
  },
  {
   "cell_type": "code",
   "execution_count": 8,
   "metadata": {},
   "outputs": [
    {
     "data": {
      "text/plain": [
       "{'source': 'docs/Texto-aprobado-Consejo-Constitucional_06.10.23.pdf',\n",
       " 'page': 0}"
      ]
     },
     "execution_count": 8,
     "metadata": {},
     "output_type": "execute_result"
    }
   ],
   "source": [
    "pages[0].metadata"
   ]
  },
  {
   "cell_type": "markdown",
   "metadata": {},
   "source": [
    "# 2. Split Document (1500, 300)"
   ]
  },
  {
   "cell_type": "code",
   "execution_count": 11,
   "metadata": {},
   "outputs": [],
   "source": [
    "text_splitter = RecursiveCharacterTextSplitter(\n",
    "    separators=[\"\\n\\n\", \"\\n\", \"\\. \", \" \", \"\"],\n",
    "    chunk_size=2000,\n",
    "    chunk_overlap=1000,\n",
    "    length_function=len\n",
    ")"
   ]
  },
  {
   "cell_type": "code",
   "execution_count": 12,
   "metadata": {},
   "outputs": [],
   "source": [
    "docs = text_splitter.split_documents(pages)"
   ]
  },
  {
   "cell_type": "code",
   "execution_count": 13,
   "metadata": {},
   "outputs": [
    {
     "data": {
      "text/plain": [
       "288"
      ]
     },
     "execution_count": 13,
     "metadata": {},
     "output_type": "execute_result"
    }
   ],
   "source": [
    "len(docs)"
   ]
  },
  {
   "cell_type": "code",
   "execution_count": 14,
   "metadata": {},
   "outputs": [
    {
     "name": "stdout",
     "output_type": "stream",
     "text": [
      "1 \n",
      "  \n",
      "TEXTO APROBADO POR EL CONSEJO CONSTITUCIONAL  \n",
      " \n",
      " \n",
      "CAPÍTULO I  \n",
      " \n",
      "FUNDAMENTOS DEL ORDEN CONSTITUCIONAL  \n",
      " \n",
      "Artículo 1  \n",
      " \n",
      "1. La dignidad humana es inviolable y la base del derecho y la justicia. Las personas nacen \n",
      "libres e iguales en dignidad y derechos. Su respeto y garantía es el primer deber de la \n",
      "comunidad política y de su forma jurídica de organización.  \n",
      " \n",
      "2. La familia es el núcleo fundamental de la sociedad. Es deber del Estado y la sociedad dar \n",
      "protección a las familias y propender a su for talecimiento.  \n",
      " \n",
      "3. Las agrupaciones que libremente surjan entre las personas gozarán de la adecuada \n",
      "autonomía para cumplir sus fines específicos que no sean contrarios a la Constitución. El \n",
      "Estado respetará los efectos de este reconocimiento . \n",
      " \n",
      "Artículo 2  \n",
      " \n",
      "1. El Estado de Chile es social y democrático de derecho, que reconoce  derechos y libertades \n",
      "fundamentales, deberes constitucionales, y promueve el desarrollo progresivo de los \n",
      "derechos sociales, con sujeción al principio de responsabilidad fiscal y a través de \n",
      "instituciones estatales y privadas.  \n",
      " \n",
      "2. El Estado deberá  servir a las personas y a la sociedad y su finalidad es promover el bien \n",
      "común, para lo cual debe crear y contribuir a crear las condiciones sociales que permitan  a \n",
      "todos y cada uno de  los integrantes de la comunidad nacional su mayor realización espiritual \n",
      "y material posible, con pleno respeto de los derechos y garantías que esta Constitución \n",
      "establece.  \n",
      " \n",
      "Artículo 3  \n",
      " \n",
      "1. El Estado de Chile adopta para su gobierno la  república democrática, con separación de \n",
      "poderes y régimen presidencial. La soberanía reside en el Pueblo  de Chile, Nación  única e \n",
      "indivisible, y se ejerce por este a través de elecciones periódicas, plebiscitos y de las \n",
      "autoridades que esta Constitución establece. Ningún sector del pueblo, persona, institución o \n",
      "grupo puede atribuirse su ejercicio.  \n",
      " \n",
      "2. La ley promoverá el acceso igualitario de mujeres y hombres a los mandatos electorales y\n",
      "instituciones estatales y privadas.  \n",
      " \n",
      "2. El Estado deberá  servir a las personas y a la sociedad y su finalidad es promover el bien \n",
      "común, para lo cual debe crear y contribuir a crear las condiciones sociales que permitan  a \n",
      "todos y cada uno de  los integrantes de la comunidad nacional su mayor realización espiritual \n",
      "y material posible, con pleno respeto de los derechos y garantías que esta Constitución \n",
      "establece.  \n",
      " \n",
      "Artículo 3  \n",
      " \n",
      "1. El Estado de Chile adopta para su gobierno la  república democrática, con separación de \n",
      "poderes y régimen presidencial. La soberanía reside en el Pueblo  de Chile, Nación  única e \n",
      "indivisible, y se ejerce por este a través de elecciones periódicas, plebiscitos y de las \n",
      "autoridades que esta Constitución establece. Ningún sector del pueblo, persona, institución o \n",
      "grupo puede atribuirse su ejercicio.  \n",
      " \n",
      "2. La ley promoverá el acceso igualitario de mujeres y hombres a los mandatos electorales y \n",
      "cargos de elección popular, así como su participación en condicion es de igualdad en los \n",
      "distintos ámbitos de la vida nacional. El Estado garantizará el ejercicio de la participación \n",
      "política de las mujeres.  \n",
      " \n",
      "Artículo 4  \n",
      " \n",
      "1. La Constitución, en tanto norma suprema del ordenamiento jurídico, consagra como límite \n",
      "al ejercici o de la soberanía el respeto de los derechos esenciales que emanan de la naturaleza \n",
      "humana, reconocidos por esta Constitución, así como por los tratados internacionales \n",
      "ratificados por Chile y que se encuentren vigentes. Es deber de los órganos del Estado \n",
      "respetar, proteger y garantizar tales derechos.  \n",
      " \n",
      "2. Las normas de derecho interno deberán interpretarse de forma compatible con la \n",
      "Constitución, atendiendo a las disposiciones referidas a derechos y libertades de los tratados \n",
      "de derechos humanos ratificado s por Chile y vigentes . Se distinguirán las disposiciones de\n"
     ]
    },
    {
     "data": {
      "text/plain": [
       "(None, None)"
      ]
     },
     "execution_count": 14,
     "metadata": {},
     "output_type": "execute_result"
    }
   ],
   "source": [
    "print(docs[0].page_content), print(docs[1].page_content)"
   ]
  },
  {
   "cell_type": "markdown",
   "metadata": {},
   "source": [
    "# 3. Create Embeddings"
   ]
  },
  {
   "cell_type": "code",
   "execution_count": 18,
   "metadata": {},
   "outputs": [],
   "source": [
    "from langchain.embeddings import BedrockEmbeddings \n",
    "bedrock_embeddings = BedrockEmbeddings(model_id=\"amazon.titan-embed-text-v1\")"
   ]
  },
  {
   "cell_type": "code",
   "execution_count": 19,
   "metadata": {},
   "outputs": [
    {
     "data": {
      "text/plain": [
       "[0.51953125, 0.44921875, 0.32421875]"
      ]
     },
     "execution_count": 19,
     "metadata": {},
     "output_type": "execute_result"
    }
   ],
   "source": [
    "bedrock_embeddings.embed_query(text=\"Hola Mundo\")[:3]"
   ]
  },
  {
   "cell_type": "markdown",
   "metadata": {},
   "source": []
  },
  {
   "cell_type": "code",
   "execution_count": 20,
   "metadata": {},
   "outputs": [],
   "source": [
    "from langchain.vectorstores import Chroma"
   ]
  },
  {
   "cell_type": "code",
   "execution_count": 21,
   "metadata": {},
   "outputs": [],
   "source": [
    "persist_directory = 'streamlit/docs/chroma/'\n",
    "!rm -rf .streamlit/docs/chroma  # remove old database files if any"
   ]
  },
  {
   "cell_type": "code",
   "execution_count": 22,
   "metadata": {},
   "outputs": [
    {
     "name": "stdout",
     "output_type": "stream",
     "text": [
      "596\n",
      "CPU times: user 2.22 s, sys: 327 ms, total: 2.55 s\n",
      "Wall time: 1min 29s\n"
     ]
    }
   ],
   "source": [
    "%%time\n",
    "vectordb = Chroma.from_documents(\n",
    "    documents=docs,\n",
    "    embedding=bedrock_embeddings,\n",
    "    persist_directory=persist_directory\n",
    ")\n",
    "print(vectordb._collection.count())"
   ]
  },
  {
   "cell_type": "code",
   "execution_count": 23,
   "metadata": {},
   "outputs": [
    {
     "name": "stdout",
     "output_type": "stream",
     "text": [
      "CPU times: user 15.7 ms, sys: 3.84 ms, total: 19.5 ms\n",
      "Wall time: 306 ms\n"
     ]
    }
   ],
   "source": [
    "%%time\n",
    "question = \"¿Cómo se compone el Congreso Nacional según la propuesta de nueva constitución chilena?\"\n",
    "responses = vectordb.similarity_search(question,k=8)"
   ]
  },
  {
   "cell_type": "code",
   "execution_count": 25,
   "metadata": {},
   "outputs": [],
   "source": [
    "vectordb.persist()"
   ]
  },
  {
   "cell_type": "code",
   "execution_count": 26,
   "metadata": {},
   "outputs": [
    {
     "name": "stdout",
     "output_type": "stream",
     "text": [
      "596\n"
     ]
    }
   ],
   "source": [
    "print(vectordb._collection.count())"
   ]
  },
  {
   "cell_type": "code",
   "execution_count": 28,
   "metadata": {},
   "outputs": [],
   "source": [
    "docs_mmr = vectordb.max_marginal_relevance_search(question,k=8)"
   ]
  },
  {
   "cell_type": "code",
   "execution_count": 29,
   "metadata": {},
   "outputs": [
    {
     "name": "stdout",
     "output_type": "stream",
     "text": [
      "95 \n",
      "  \n",
      "el Presidente de la República convoque a referendo, se promulgará el proyecto que hubiere \n",
      "aprobado el Congreso Nacional.  \n",
      " \n",
      "2. El decreto de convocatoria contendrá, según corresponda, el proyecto aprobado por ambas \n",
      "Cámaras y vetado totalmente por e l Presidente de la República, o las cuestiones del proyecto \n",
      "en las cuales el Congreso haya insistido, según lo dispuesto en los incisos 4 y 5 del artículo \n",
      "anterior. En este último caso, cada una de las cuestiones en desacuerdo deberá ser votada \n",
      "separadamen te en el referendo.  \n",
      " \n",
      "3. El Tribunal Calificador de Elecciones comunicará al Presidente de la República el \n",
      "resultado del referendo y especificará el texto del proyecto aprobado por la ciudadanía, el \n",
      "que deberá ser promulgado como reforma constitucional dent ro de los cinco días siguientes \n",
      "a dicha comunicación.  \n",
      " \n",
      "4. Una vez promulgado el proyecto y desde la fecha de su vigencia, sus disposiciones \n",
      "formarán parte de la Constitución y se tendrán por incorporadas a esta.  \n",
      " \n",
      " \n",
      "Del procedimiento de reemplazo constitucional  \n",
      " \n",
      "Artículo 21 8 \n",
      " \n",
      "1. Solo podrá iniciarse un procedimiento de reemplazo de la Constitución a propuesta del \n",
      "Presidente de la República y con el acuerdo de los dos tercios de los integrantes en ejercicio \n",
      "de la Cámara de Diputadas y Diputados y de l Senado.  \n",
      " \n",
      "2. El referido acuerdo solo podrá aprobarse si además contiene las siguientes materias \n",
      "esenciales:\n",
      "declaración de est ados de excepción constitucional.  \n",
      " \n",
      "3. La ley institucional del Congreso Nacional regulará la tramitación de las acusaciones \n",
      "constitucionales, la calificación de las urgencias y todo lo relacionado con la tramitación \n",
      "interna de la ley.  \n",
      " \n",
      "Artículo 6 2 \n",
      " \n",
      "1. La C ámara de Diputadas y Diputados y el Senado no podrán entrar en sesión ni adoptar \n",
      "acuerdos sin la concurrencia de la tercera parte de sus miembros en ejercicio.  \n",
      " \n",
      "2. Cada una de las Cámaras establecerá en su propio reglamento la clausura del debate por \n",
      "simpl e mayoría.  \n",
      " \n",
      "Artículo 63  \n",
      " \n",
      "1. Durante el mes de julio de cada año, el Presidente del Senado y el Presidente de la Cámara \n",
      "de Diputadas y Diputados  darán cuenta pública al país, en sesión del Congreso Pleno, de las \n",
      "actividades realizadas por las Corporaciones que presiden.  \n",
      " \n",
      "2. El reglamento de cada Cámara determinará el contenido de dicha cuenta y regulará la \n",
      "forma de cumplir esta obligación.  \n",
      " \n",
      "Artícu lo 64  \n",
      " \n",
      "Los ministros de Estado, que acuerde la Cámara de Diputadas y Diputados, o bien el Senado, \n",
      "deberán concurrir al inicio de la legislatura, a la comisión respectiva, para exponer la agenda \n",
      "legislativa de su cartera para el año.  \n",
      " \n",
      "Artículo 6 5 \n",
      " \n",
      "Existirá una oficina de asesoría parlamentaria, de carácter técnico, para el análisis del impacto \n",
      "financiero y regulatorio de los proyectos de ley.\n",
      "favorables de los cuatro séptimos de los integrantes en ejercicio de la Sala o comisión \n",
      "respectiva, sin perjuicio de las atrib uciones del Tribunal Constitucional para conocer del \n",
      "asunto.  \n",
      " \n",
      "5. No podrá el Congreso, en la tramitación del proyecto de Ley de Presupuestos ni en \n",
      "cualquier otra iniciativa, aprobar ningún nuevo gasto con cargo a los fondos de la Nación sin \n",
      "que se indiquen , al mismo tiempo, las fuentes de recursos necesarios para atender dicho gasto.  \n",
      " \n",
      "Artículo 8 0 \n",
      " \n",
      "1. Las normas legales que interpreten preceptos constitucionales necesitarán, para su \n",
      "aprobación, modificación o derogación, del mismo quorum  que se exige para aprobar una \n",
      "reforma constitucional.  \n",
      " \n",
      "2. Las normas legales a las cuales la Constitución confiere el carácter de ley electoral o \n",
      "desarrollen el sistema electoral público, o los sistemas electorales aplicables a los cargos de \n",
      "elección popular, requerirán  para su aprobación, modificación o derog ación del voto \n",
      "conforme de los cuatro séptimos de los diputados y senadores en ejercicio.  \n",
      " \n",
      "3. Las normas legales a las cuales la Constitución confiere el carácter de ley institucional o \n",
      "de quorum  calificado se aprobarán, modificarán o derogarán por la may oría de los diputados \n",
      "y senadores en ejercicio.  \n",
      " \n",
      "4. Las demás normas legales requerirán la mayoría de los miembros presentes de cada \n",
      "Cámara, o las mayorías que sean aplicables conforme a los artículos 82 y siguientes.  \n",
      " \n",
      "Artículo 8 1\n",
      "otro.  \n",
      " \n",
      "Artículo 9 0 \n",
      " \n",
      "1. Si el Presidente de la República no devolviere el proyecto dentro de treinta días, contados \n",
      "desde la fecha de su remisión, se entenderá que lo aprueba y se promulgará como ley.  \n",
      " \n",
      "2. La promulgación deberá hacerse siempre dentro del plazo de diez días, contado desde que \n",
      "ella sea procedente. El decreto promulgatorio podrá s er firmado por uno o más de los \n",
      "parlamentarios que suscribieron el mensaje o la moción.  \n",
      " \n",
      "3. La publicación se hará dentro de los cinco días hábiles siguientes a la fecha en que quede \n",
      "totalmente tramitado el decreto promulgatorio.  \n",
      " \n",
      "4. Una vez publicada la l ey ningún tribunal podrá conocer acciones o recursos fundados en \n",
      "eventuales vicios de forma suscitados durante la tramitación del proyecto de ley.  \n",
      " \n",
      " \n",
      " \n",
      "CAPÍTULO V  \n",
      " \n",
      "GOBIERNO Y ADMINISTRACIÓN DEL ESTADO  \n",
      " \n",
      "Presidente de la República  \n",
      " \n",
      "Artículo 91  \n",
      " \n",
      "1. El gobierno y la Administración del Estado corresponden al Presidente o Presidenta de la \n",
      "República, quien es el Jefe del Estado y el Jefe del Gobierno.  \n",
      " \n",
      "2. Su autoridad se extiende a todo cuanto tiene por objeto la conservación del orden público \n",
      "en el interio r y la seguridad externa de la República, de acuerdo con la Constitución y las \n",
      "leyes.  \n",
      " \n",
      "3. El 1 de junio de cada año, el Presidente de la República dará cuenta al país del estado \n",
      "administrativo y político de la Nación ante el Congreso Pleno.  \n",
      " \n",
      "Artículo 92  \n",
      " \n",
      "1. Para ser elegido Presidente de la República se requiere tener la nacionalidad chilena de \n",
      "acuerdo a lo dispuesto en los literales a) o b), del inciso 1 del artículo 17, tener cumplidos \n",
      "treinta y cinco años de edad y poseer las demás calidades necesarias p ara ser ciudadano con \n",
      "derecho a sufragio, en conformidad con esta Constitución.\n",
      "ratificados y vigentes en Chile.  \n",
      " \n",
      "Artículo 43  \n",
      " \n",
      "Todos los ciudadanos tendrán derecho a asociarse libremente en partidos políticos, sin \n",
      "perjuicio de las excepciones que establezca es ta Constitución y la ley.  \n",
      " \n",
      "Artículo 44  \n",
      " \n",
      "1. La Constitución garantiza el pluralismo político. Los partidos políticos gozarán de libertad \n",
      "para definir y modificar sus declaraciones de principios, programas y acuerdos; para \n",
      "presentar candidatos en las eleccio nes y, en general, para desarrollar sus actividades propias \n",
      "en conformidad con la ley, en concordancia con lo establecido en el artículo 80  de esta \n",
      "Constitución.  \n",
      " \n",
      "2. Los partidos políticos, movimientos u otras formas de organización cuyos objetivos, actos \n",
      "o conductas no respeten los principios básicos del régimen democrático, como asimismo \n",
      "aquellos que hagan uso de la violencia, la propugnen o inciten a ella, serán declarados \n",
      "inconstitucionales. Corresponderá a l Tribunal Constitucional conocer y juzgar esta s materias.  \n",
      " \n",
      "3. Los partidos políticos deberán adoptar mecanismos de dirección y supervisión para \n",
      "prevenir infracciones a la probidad y transparencia, en conformidad con la ley institucional.  \n",
      " \n",
      "Artículo 45  \n",
      " \n",
      "1. La ley institucional determinará los requisitos para formar y disolver un partido político y \n",
      "demás normas para que puedan llevar a cabo sus actividades y señalará las reglas a que se \n",
      "sujetará el financiamiento para su funcionamiento ordinario , así como durante las elecciones.\n",
      "51 \n",
      "  \n",
      "e) Designar y remover al General Director de Carabineros de Chile y al Director \n",
      "General de la Policía de Investigaciones de Chile y disponer los nombramientos, \n",
      "ascensos y retiros de Carabineros y funcionarios policiales en la forma que señala el \n",
      "artículo 124. \n",
      " \n",
      "f) Nombrar y remover a su voluntad a los ministros de Estado, a los subsecretarios, a \n",
      "su representante en cada una de las regiones y provincias, y a los funcionarios que la \n",
      "ley denomina como de su exclusiva confianza y proveer los demás empleos civile s en \n",
      "conformidad a la ley. La remoción de los demás funcionarios se hará de acuerdo a las \n",
      "disposiciones que esta determine.  \n",
      " \n",
      "g) Concurrir a la formación de las leyes con arreglo a la Constitución, sancionarlas y \n",
      "promulgarlas.  \n",
      " \n",
      "h) Solicitar, indicando los m otivos, que se cite a sesión a cualquiera de las ramas del \n",
      "Congreso Nacional. En tal caso, la sesión deberá celebrarse a la brevedad posible.  \n",
      " \n",
      "i) Dictar, previa delegación de facultades del Congreso, decretos con fuerza de ley \n",
      "sobre las materias que señala  la Constitución.  \n",
      " \n",
      "j) Convocar a referendos  y plebiscitos en los casos establecidos en esta Constitución.  \n",
      " \n",
      "k) Declarar los estados de excepción constitucional en los casos y formas que se señalan \n",
      "en esta Constitución.  \n",
      " \n",
      "l) Dictar los reglamentos, decretos e  instrucciones que crea convenientes para la \n",
      "implementación de las leyes.  \n",
      " \n",
      "m) Conceder jubilaciones, retiros, montepíos y pensiones de gracia, con arreglo a las \n",
      "leyes.\n",
      "De los Deberes Constitucionales  \n",
      " \n",
      "Artículo 3 7 \n",
      " \n",
      "1. Todas las personas deben respetarse y comportarse fraternal y solidariamente. Asimismo, \n",
      "deben honrar la tradición republicana, defender y preservar la democracia, y observar fiel y \n",
      "lealmente la Constitución y la ley.  \n",
      " \n",
      "2. Del mismo modo, todas las personas deben contribuir a preservar el patrimonio ambiental, \n",
      "cultural e histórico de Chile.  \n",
      " \n",
      "3. Es un deber de todos los habitantes de la Repúbli ca proteger el medio ambiente, \n",
      "considerando las generaciones futuras , y prevenir la generación de daño ambiental. En caso \n",
      "que se produzca, serán responsables del daño que causen, contribuyendo a su reparación en \n",
      "conformidad con la ley.  \n",
      " \n",
      "4. Todo habitante d e la República debe respeto a Chile y a sus emblemas nacionales. Los \n",
      "chilenos tienen el deber de honrar a la patria.  \n",
      " \n",
      "5. Todos los ciudadanos que ejercen funciones públicas tienen el deber de desempeñar fiel y \n",
      "honradamente sus cargos, dando cumplimiento al  principio de probidad en todas sus \n",
      "actuaciones. Combatir la corrupción es un deber de todos los habitantes de la República.  \n",
      " \n",
      "6. Los habitantes de la República deben cumplir con las cargas públicas, contribuir al \n",
      "sostenimiento del gasto público mediante el  pago de tributos de acuerdo con su capacidad \n",
      "económica, y votar en las elecciones, y plebiscitos, todo de conformidad con la Constitución \n",
      "y la ley. Asimismo, deben defender la paz y usar métodos pacíficos de acción política.\n",
      "considerando la destinación temporal de los funci onarios a que hace referencia el inciso 6 del \n",
      "artículo 182 de esta Constitución.  \n",
      " \n",
      "Quincuagésima segunda  \n",
      " \n",
      "Las personas que actualmente se desempeñan como miembros del Consejo Directivo del \n",
      "Servicio Electoral, del Tribunal Calificador de Elecciones y de los tribunales electorales \n",
      "regionales continuarán en sus funciones de conformidad a los artículos 94 bis, 95 y 96 del \n",
      "decreto supremo Nº 100, que fija el texto refundido, coordinado y sistematizado de la \n",
      "Constitución Política de la Repúblic a de Chile, y cesarán en su cargo cumplido el período \n",
      "por el cual fueron nombrados.  \n",
      " \n",
      "Quincuagésima tercera  \n",
      " \n",
      "1. Desde la entrada en vigencia de esta Constitución Política, el Presidente de la República \n",
      "enviará al Congreso Nacional un proyecto de ley para ad ecuar la ley N°18.460, orgánica \n",
      "constitucional del Tribunal Calificador de Elecciones. Mientras esta no entre en vigencia, el \n",
      "integrante del Tribunal Calificador de Elecciones nombrado conforme al literal b) del inciso \n",
      "3 del artículo 191, recibirá una retr ibución equivalente a diez unidades tributarias mensuales \n",
      "por sesión celebrada, con un tope de ochenta unidades tributarias mensuales durante el mes.  \n",
      " \n",
      "2. Asimismo, desde la entrada en vigencia de esta Constitución Política, el Presidente de la \n",
      "República en viará al Congreso Nacional un proyecto de ley para adecuar la ley N°18.593, \n",
      "orgánica constitucional de los Tribunales Electorales Regionales. Mientras esta no entre en \n",
      "vigencia, los dos integrantes de los tribunales electorales regionales nombrados conform e al \n",
      "inciso 2 del artículo 192, recibirán una retribución equivalente a siete unidades tributarias \n",
      "mensuales por sesión celebrada, con un tope de cuarenta y nueve unidades tributarias durante \n",
      "el mes.  \n",
      " \n",
      "Quincuagésima cuarta  \n",
      " \n",
      "1. Si a la fecha de entrada en vi gencia de esta Constitución se encuentra en funciones un\n"
     ]
    }
   ],
   "source": [
    "for doc_mmr in docs_mmr:\n",
    "    print (doc_mmr.page_content)"
   ]
  },
  {
   "cell_type": "code",
   "execution_count": null,
   "metadata": {},
   "outputs": [],
   "source": []
  }
 ],
 "metadata": {
  "kernelspec": {
   "display_name": ".venv",
   "language": "python",
   "name": "python3"
  },
  "language_info": {
   "codemirror_mode": {
    "name": "ipython",
    "version": 3
   },
   "file_extension": ".py",
   "mimetype": "text/x-python",
   "name": "python",
   "nbconvert_exporter": "python",
   "pygments_lexer": "ipython3",
   "version": "3.11.5"
  }
 },
 "nbformat": 4,
 "nbformat_minor": 2
}
