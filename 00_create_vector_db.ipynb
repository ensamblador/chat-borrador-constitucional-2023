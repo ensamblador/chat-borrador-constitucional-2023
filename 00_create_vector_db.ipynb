{
 "cells": [
  {
   "cell_type": "code",
   "execution_count": 30,
   "metadata": {},
   "outputs": [],
   "source": [
    "from langchain.document_loaders import PyPDFLoader\n",
    "from langchain.text_splitter import RecursiveCharacterTextSplitter, CharacterTextSplitter\n"
   ]
  },
  {
   "cell_type": "markdown",
   "metadata": {},
   "source": [
    "# 1. Load Document"
   ]
  },
  {
   "cell_type": "code",
   "execution_count": null,
   "metadata": {},
   "outputs": [],
   "source": []
  },
  {
   "cell_type": "code",
   "execution_count": 36,
   "metadata": {},
   "outputs": [],
   "source": [
    "txt_doc = \"docs/Constitucion_Chilena_1980_s_notas.txt\"\n",
    "with open (txt_doc) as f:\n",
    "    contents = f.read()"
   ]
  },
  {
   "cell_type": "code",
   "execution_count": 31,
   "metadata": {},
   "outputs": [],
   "source": [
    "loader = PyPDFLoader(\"docs/Texto-aprobado-Consejo-Constitucional_06.10.23.pdf\")\n",
    "pages = loader.load()"
   ]
  },
  {
   "cell_type": "code",
   "execution_count": 32,
   "metadata": {},
   "outputs": [
    {
     "data": {
      "text/plain": [
       "107"
      ]
     },
     "execution_count": 32,
     "metadata": {},
     "output_type": "execute_result"
    }
   ],
   "source": [
    "len(pages)"
   ]
  },
  {
   "cell_type": "code",
   "execution_count": 33,
   "metadata": {},
   "outputs": [
    {
     "data": {
      "text/plain": [
       "2912"
      ]
     },
     "execution_count": 33,
     "metadata": {},
     "output_type": "execute_result"
    }
   ],
   "source": [
    "len(pages[0].page_content)"
   ]
  },
  {
   "cell_type": "code",
   "execution_count": 34,
   "metadata": {},
   "outputs": [
    {
     "data": {
      "text/plain": [
       "' \\n1 \\n  \\nTEXTO APROBADO POR EL CONSEJO CONSTITUCIONAL  \\n \\n \\nCAPÍTULO I  \\n \\nFUNDAMENTOS DEL ORDEN CONSTITUCIONAL  \\n \\nArtículo 1  \\n \\n1. La dignidad humana es inviolable y la base del derecho y la justicia. Las personas nacen \\nlibres e iguales en dignidad y derechos. Su respeto y garantía es el primer deber de la \\ncomunidad política y de su forma jurídica de organización.  \\n \\n2. La familia es el núcleo fundamental de la sociedad. Es deber del Estado y la sociedad dar \\nprotección a las familias y propender a su for talecimiento.  \\n \\n3. Las agrupaciones que libremente surjan entre las personas gozarán de la adecuada \\nautonomía para cumplir sus fines específicos que no sean contrarios a la Constitución. El \\nEstado respetará los efectos de este reconocimiento . \\n \\nArtículo 2  \\n \\n1. El Estado de Chile es social y democrático de derecho, que reconoce  derechos y libertades \\nfundamentales, deberes constitucionales, y promueve el desarrollo progresivo de los \\nderechos sociales, con sujeción al principio de responsabilidad fiscal y a través de \\ninstituciones estatales y privadas.  \\n \\n2. El Estado deberá  servir a las personas y a la sociedad y su finalidad es promover el bien \\ncomún, para lo cual debe crear y contribuir a crear las condiciones sociales que permitan  a \\ntodos y cada uno de  los integrantes de la comunidad nacional su mayor realización espiritual \\ny material posible, con pleno respeto de los derechos y garantías que esta Constitución \\nestablece.  \\n \\nArtículo 3  \\n \\n1. El Estado de Chile adopta para su gobierno la  república democrática, con separación de \\npoderes y régimen presidencial. La soberanía reside en el Pueblo  de Chile, Nación  única e \\nindivisible, y se ejerce por este a través de elecciones periódicas, plebiscitos y de las \\nautoridades que esta Constitución establece. Ningún sector del pueblo, persona, institución o \\ngrupo puede atribuirse su ejercicio.  \\n \\n2. La ley promoverá el acceso igualitario de mujeres y hombres a los mandatos electorales y \\ncarg'"
      ]
     },
     "execution_count": 34,
     "metadata": {},
     "output_type": "execute_result"
    }
   ],
   "source": [
    "pages[0].page_content[0:2000]"
   ]
  },
  {
   "cell_type": "code",
   "execution_count": 8,
   "metadata": {},
   "outputs": [
    {
     "data": {
      "text/plain": [
       "{'source': 'docs/Texto-aprobado-Consejo-Constitucional_06.10.23.pdf',\n",
       " 'page': 0}"
      ]
     },
     "execution_count": 8,
     "metadata": {},
     "output_type": "execute_result"
    }
   ],
   "source": [
    "pages[0].metadata"
   ]
  },
  {
   "cell_type": "markdown",
   "metadata": {},
   "source": [
    "# 2. Split Document (1500, 300)"
   ]
  },
  {
   "cell_type": "code",
   "execution_count": 41,
   "metadata": {},
   "outputs": [],
   "source": [
    "text_splitter = RecursiveCharacterTextSplitter(\n",
    "    separators=[\"\\n\\n\", \"\\n\", \"\\. \", \" \", \"\"],\n",
    "    chunk_size=2000,\n",
    "    chunk_overlap=1000,\n",
    "    length_function=len\n",
    ")"
   ]
  },
  {
   "cell_type": "code",
   "execution_count": 42,
   "metadata": {},
   "outputs": [],
   "source": [
    "docs = text_splitter.split_documents(pages)"
   ]
  },
  {
   "cell_type": "code",
   "execution_count": 43,
   "metadata": {},
   "outputs": [
    {
     "data": {
      "text/plain": [
       "288"
      ]
     },
     "execution_count": 43,
     "metadata": {},
     "output_type": "execute_result"
    }
   ],
   "source": [
    "len(docs)"
   ]
  },
  {
   "cell_type": "code",
   "execution_count": 46,
   "metadata": {},
   "outputs": [
    {
     "name": "stdout",
     "output_type": "stream",
     "text": [
      "públicos y entidades privadas a cargo de la infraestructura crítica del país, así como los \n",
      "criterios específicos para la  identificación de la misma.  \n",
      " \n",
      "2. El Presidente de la República, a través de un decreto supremo, designará a un oficial \n",
      "general de las Fuerzas Armadas que tendrá el mando de las Fuerzas Armadas y de las Fuerzas  \n",
      "de Orden y Seguridad Pública dispuestas para l a protección de la infraestructura crítica en \n",
      "las áreas especificadas en dicho acto. Los jefes designados para el mando de las fuerzas \n",
      "tendrán la responsabilidad del resguardo del orden público en dichas áreas, de acuerdo con \n",
      "las instrucciones que establez ca el ministerio a cargo de la Seguridad Pública en el decreto \n",
      "supremo.  \n",
      " \n",
      "3. El ejercicio de esta atribución no implicará la suspensión, restricción o limitación de los \n",
      "derechos y garantías consagrados en esta Constitución o en tratados internacionales sobr e \n",
      "derechos humanos ratificados por Chile y que se encuentren vigentes. Sin perjuicio de lo \n",
      "anterior, las afectaciones solo podrán enmarcarse en el ejercicio de las facultades de \n",
      "resguardo del orden público y emanarán de las atribuciones que la ley les otor gue a las fuerzas \n",
      "para ejecutar la medida, procediendo exclusivamente dentro de los límites territoriales de \n",
      "protección de la infraestructura crítica que se fijen, sujeta a los procedimientos establecidos \n",
      "en la legalidad vigente y en las reglas del uso de la fuerza que se fijen al efecto para el \n",
      "cumplimiento del deber.  \n",
      " \n",
      "4. Esta medida se extenderá por un plazo máximo de noventa días, sin perjuicio de que pueda \n",
      "prorrogarse por iguales períodos con acuerdo del Congreso Nacional, mientras persista el \n",
      "peligro g rave o inminente que dio lugar a su ejercicio. El Presidente de la República deberá \n",
      "informar al Congreso Nacional, al término de cada período, de las medidas adoptadas y de \n",
      "los efectos o consecuencias de la ejecución de esta atribución.\n"
     ]
    }
   ],
   "source": [
    "print(docs[151].page_content)"
   ]
  },
  {
   "cell_type": "code",
   "execution_count": 45,
   "metadata": {},
   "outputs": [
    {
     "name": "stdout",
     "output_type": "stream",
     "text": [
      "56 \n",
      "  \n",
      " \n",
      "Disposiciones generales  \n",
      " \n",
      "Artículo 1 14 \n",
      " \n",
      "1. Para efectos de lo dispuesto en el literal r) del artículo 101, la infraestructura crítica \n",
      "comprende el conjunto de instalaciones, sistemas físicos o servicios esenciales y de utilidad \n",
      "pública, así como aquellos cuya afectación cause un grave daño a la salud o al abastecimiento \n",
      "de la población, a la actividad económica esencial, al medioambiente o a la seguridad del \n",
      "país. Se entiende por este concepto la infraestructura indispensable para la generación, \n",
      "transmisión, transporte, producción, almacenamiento  y distribución de los servicios e \n",
      "insumos básicos para la población, tales como energía, gas, agua o telecomunicaciones; la \n",
      "relativa a la conexión vial, aérea, terrestre, marítima, portuaria o ferroviaria, y la \n",
      "correspondiente a servicios de utilidad públ ica, como los sistemas de asistencia sanitaria o \n",
      "de salud. Una ley regulará las obligaciones a las que estarán sometidos los organismos \n",
      "públicos y entidades privadas a cargo de la infraestructura crítica del país, así como los \n",
      "criterios específicos para la  identificación de la misma.  \n",
      " \n",
      "2. El Presidente de la República, a través de un decreto supremo, designará a un oficial \n",
      "general de las Fuerzas Armadas que tendrá el mando de las Fuerzas Armadas y de las Fuerzas  \n",
      "de Orden y Seguridad Pública dispuestas para l a protección de la infraestructura crítica en \n",
      "las áreas especificadas en dicho acto. Los jefes designados para el mando de las fuerzas \n",
      "tendrán la responsabilidad del resguardo del orden público en dichas áreas, de acuerdo con \n",
      "las instrucciones que establez ca el ministerio a cargo de la Seguridad Pública en el decreto \n",
      "supremo.  \n",
      " \n",
      "3. El ejercicio de esta atribución no implicará la suspensión, restricción o limitación de los \n",
      "derechos y garantías consagrados en esta Constitución o en tratados internacionales sobr e \n",
      "derechos humanos ratificados por Chile y que se encuentren vigentes. Sin perjuicio de lo\n"
     ]
    }
   ],
   "source": [
    "print(docs[150].page_content)"
   ]
  },
  {
   "cell_type": "markdown",
   "metadata": {},
   "source": [
    "# 3. Create Embeddings"
   ]
  },
  {
   "cell_type": "code",
   "execution_count": 47,
   "metadata": {},
   "outputs": [],
   "source": [
    "from langchain.embeddings import BedrockEmbeddings \n",
    "bedrock_embeddings = BedrockEmbeddings(model_id=\"amazon.titan-embed-text-v1\")"
   ]
  },
  {
   "cell_type": "code",
   "execution_count": 48,
   "metadata": {},
   "outputs": [
    {
     "data": {
      "text/plain": [
       "[0.51953125, 0.44921875, 0.32421875]"
      ]
     },
     "execution_count": 48,
     "metadata": {},
     "output_type": "execute_result"
    }
   ],
   "source": [
    "bedrock_embeddings.embed_query(text=\"Hola Mundo\")[:3]"
   ]
  },
  {
   "cell_type": "markdown",
   "metadata": {},
   "source": []
  },
  {
   "cell_type": "code",
   "execution_count": 49,
   "metadata": {},
   "outputs": [],
   "source": [
    "from langchain.vectorstores import Chroma"
   ]
  },
  {
   "cell_type": "code",
   "execution_count": 50,
   "metadata": {},
   "outputs": [],
   "source": [
    "persist_directory = 'streamlit/docs/chroma/'\n",
    "!rm -rf .streamlit/docs/chroma  # remove old database files if any"
   ]
  },
  {
   "cell_type": "code",
   "execution_count": 51,
   "metadata": {},
   "outputs": [
    {
     "name": "stdout",
     "output_type": "stream",
     "text": [
      "884\n",
      "CPU times: user 1.86 s, sys: 244 ms, total: 2.1 s\n",
      "Wall time: 1min 34s\n"
     ]
    }
   ],
   "source": [
    "%%time\n",
    "vectordb = Chroma.from_documents(\n",
    "    documents=docs,\n",
    "    embedding=bedrock_embeddings,\n",
    "    persist_directory=persist_directory\n",
    ")\n",
    "print(vectordb._collection.count())"
   ]
  },
  {
   "cell_type": "code",
   "execution_count": 54,
   "metadata": {},
   "outputs": [
    {
     "name": "stdout",
     "output_type": "stream",
     "text": [
      "CPU times: user 12.3 ms, sys: 3.8 ms, total: 16.1 ms\n",
      "Wall time: 425 ms\n"
     ]
    }
   ],
   "source": [
    "%%time\n",
    "question = \"Como se compone el Congreso Nacional?\"\n",
    "responses = vectordb.similarity_search(question,k=8)"
   ]
  },
  {
   "cell_type": "code",
   "execution_count": 58,
   "metadata": {},
   "outputs": [
    {
     "data": {
      "text/plain": [
       "{'page': 35,\n",
       " 'source': 'docs/Texto-aprobado-Consejo-Constitucional_06.10.23.pdf'}"
      ]
     },
     "execution_count": 58,
     "metadata": {},
     "output_type": "execute_result"
    }
   ],
   "source": [
    "responses[0].metadata"
   ]
  },
  {
   "cell_type": "code",
   "execution_count": 59,
   "metadata": {},
   "outputs": [
    {
     "name": "stdout",
     "output_type": "stream",
     "text": [
      "35\n",
      "36 \n",
      "  \n",
      "En los casos en que el Estado sea objeto de una demanda o denuncia ante \n",
      "organismos internacionales por presuntas vulneraciones de los tratados \n",
      "internacionales aprobados por el Congreso Nacional conforme a este artículo, y \n",
      "respecto de la cual el Presidente de la República tenga la intención de celebrar o \n",
      "acceder a un acuerdo o solución alternativa, deberá ser informado  a ambas \n",
      "cámaras, antes de su conclusión, para su conocimiento. Con todo, el Presidente \n",
      "de la República no podrá transigir o acordar la realiz ación de acciones o adopción \n",
      "de medidas que excedan de las facultades que la Constitución le otorga.  \n",
      " \n",
      "b) Pronunciarse, cuando corresponda, respecto de los estados de excepción \n",
      "constitucional, en la forma prescrita por esta Constitución.  \n",
      " \n",
      " \n",
      "Funcionamiento de l Congreso Nacional  \n",
      " \n",
      "Artículo 61  \n",
      " \n",
      "1. El Congreso Nacional se instalará e iniciará su período de sesiones en la forma que \n",
      "determine su ley institucional.  \n",
      " \n",
      "2. En todo caso, se entenderá siempre convo\n",
      "35\n",
      "36 \n",
      "  \n",
      "En los casos en que el Estado sea objeto de una demanda o denuncia ante \n",
      "organismos internacionales por presuntas vulneraciones de los tratados \n",
      "internacionales aprobados por el Congreso Nacional conforme a este artículo, y \n",
      "respecto de la cual el Presidente de la República tenga la intención de celebrar o \n",
      "acceder a un acuerdo o solución alternativa, deberá ser informado  a ambas \n",
      "cámaras, antes de su conclusión, para su conocimiento. Con todo, el Presidente \n",
      "de la República no podrá transigir o acordar la realiz ación de acciones o adopción \n",
      "de medidas que excedan de las facultades que la Constitución le otorga.  \n",
      " \n",
      "b) Pronunciarse, cuando corresponda, respecto de los estados de excepción \n",
      "constitucional, en la forma prescrita por esta Constitución.  \n",
      " \n",
      " \n",
      "Funcionamiento de l Congreso Nacional  \n",
      " \n",
      "Artículo 61  \n",
      " \n",
      "1. El Congreso Nacional se instalará e iniciará su período de sesiones en la forma que \n",
      "determine su ley institucional.  \n",
      " \n",
      "2. En todo caso, se entenderá siempre convo\n",
      "35\n",
      "declaración de est ados de excepción constitucional.  \n",
      " \n",
      "3. La ley institucional del Congreso Nacional regulará la tramitación de las acusaciones \n",
      "constitucionales, la calificación de las urgencias y todo lo relacionado con la tramitación \n",
      "interna de la ley.  \n",
      " \n",
      "Artículo 6 2 \n",
      " \n",
      "1. La C ámara de Diputadas y Diputados y el Senado no podrán entrar en sesión ni adoptar \n",
      "acuerdos sin la concurrencia de la tercera parte de sus miembros en ejercicio.  \n",
      " \n",
      "2. Cada una de las Cámaras establecerá en su propio reglamento la clausura del debate por \n",
      "simpl e mayoría.  \n",
      " \n",
      "Artículo 63  \n",
      " \n",
      "1. Durante el mes de julio de cada año, el Presidente del Senado y el Presidente de la Cámara \n",
      "de Diputadas y Diputados  darán cuenta pública al país, en sesión del Congreso Pleno, de las \n",
      "actividades realizadas por las Corporaciones que presiden.  \n",
      " \n",
      "2. El reglamento de cada Cámara determinará el contenido de dicha cuenta y regulará la \n",
      "forma de cumplir esta obligación.  \n",
      " \n",
      "Artícu lo 64  \n",
      " \n",
      "Los ministros de Estado, \n",
      "35\n",
      "declaración de est ados de excepción constitucional.  \n",
      " \n",
      "3. La ley institucional del Congreso Nacional regulará la tramitación de las acusaciones \n",
      "constitucionales, la calificación de las urgencias y todo lo relacionado con la tramitación \n",
      "interna de la ley.  \n",
      " \n",
      "Artículo 6 2 \n",
      " \n",
      "1. La C ámara de Diputadas y Diputados y el Senado no podrán entrar en sesión ni adoptar \n",
      "acuerdos sin la concurrencia de la tercera parte de sus miembros en ejercicio.  \n",
      " \n",
      "2. Cada una de las Cámaras establecerá en su propio reglamento la clausura del debate por \n",
      "simpl e mayoría.  \n",
      " \n",
      "Artículo 63  \n",
      " \n",
      "1. Durante el mes de julio de cada año, el Presidente del Senado y el Presidente de la Cámara \n",
      "de Diputadas y Diputados  darán cuenta pública al país, en sesión del Congreso Pleno, de las \n",
      "actividades realizadas por las Corporaciones que presiden.  \n",
      " \n",
      "2. El reglamento de cada Cámara determinará el contenido de dicha cuenta y regulará la \n",
      "forma de cumplir esta obligación.  \n",
      " \n",
      "Artícu lo 64  \n",
      " \n",
      "Los ministros de Estado, \n",
      "33\n",
      "políticas o administrativas y los tribunales superiores de justicia.  \n",
      " \n",
      "d) Otorgar la rehab ilitación de la ciudadanía en el caso del inciso 2 del artículo 20.  \n",
      " \n",
      "e) Prestar o negar su consentimiento a los actos del Presidente de la República o a las \n",
      "designaciones de las autoridades y funcionarios que este propusiere, en los casos y en \n",
      "conformidad al quorum  que la Constitución o la ley requieran. Si el Senado no se \n",
      "pronunciare dentro de los treinta días después de pedida la urgencia por el Presidente \n",
      "de la República, el asunto se pondrá en votación, por el solo ministerio de la \n",
      "Constitución en la sesión de s ala más próxima. La ley institucional del Congreso \n",
      "Nacional contemplará audiencias y otros mecanismos que favorezcan el escrutinio \n",
      "público del mérito del nominado.  \n",
      " \n",
      "f) Otorgar su acuerdo para que el Presidente de la República pueda ausentarse del país \n",
      "por más de treinta días o a contar del día señalado en el inciso 1 del artículo 93 . \n",
      " \n",
      "g) Declarar por los dos tercio\n",
      "33\n",
      "políticas o administrativas y los tribunales superiores de justicia.  \n",
      " \n",
      "d) Otorgar la rehab ilitación de la ciudadanía en el caso del inciso 2 del artículo 20.  \n",
      " \n",
      "e) Prestar o negar su consentimiento a los actos del Presidente de la República o a las \n",
      "designaciones de las autoridades y funcionarios que este propusiere, en los casos y en \n",
      "conformidad al quorum  que la Constitución o la ley requieran. Si el Senado no se \n",
      "pronunciare dentro de los treinta días después de pedida la urgencia por el Presidente \n",
      "de la República, el asunto se pondrá en votación, por el solo ministerio de la \n",
      "Constitución en la sesión de s ala más próxima. La ley institucional del Congreso \n",
      "Nacional contemplará audiencias y otros mecanismos que favorezcan el escrutinio \n",
      "público del mérito del nominado.  \n",
      " \n",
      "f) Otorgar su acuerdo para que el Presidente de la República pueda ausentarse del país \n",
      "por más de treinta días o a contar del día señalado en el inciso 1 del artículo 93 . \n",
      " \n",
      "g) Declarar por los dos tercio\n",
      "33\n",
      "originan son o no fundados. En este caso, se entenderá que el Presidente ha cesado en \n",
      "su cargo de sde el instante en que manifestare su renuncia y por el solo mérito de su \n",
      "presentación.  \n",
      " \n",
      "h) Dar su dictamen al Presidente de la República en los casos en que este lo solicite.  \n",
      " \n",
      "2. El Senado, sus comisiones y sus demás órganos, incluidos los comités parlame ntarios si \n",
      "los hubiere, no podrán fiscalizar los actos del Gobierno ni de las entidades que de él \n",
      "dependan, ni adoptar acuerdos que impliquen fiscalización.  \n",
      " \n",
      " \n",
      "Atribuciones exclusivas del Congreso Nacional  \n",
      " \n",
      "Artículo 60  \n",
      " \n",
      "Son atribuciones del Congreso Nacional:  \n",
      " \n",
      "a) Aprobar o desechar los tratados internacionales que le presentare el Presidente de la \n",
      "República antes de su ratificación. La aprobación de un tratado se someterá, en lo\n",
      "44\n",
      "los miembros presentes en cada una de ellas , salvo que conforme a esta Constitución s e \n",
      "establezca un quorum  distinto para su aprobación.  \n",
      " \n",
      "2. Si la comisión mixta no llegare a acuerdo, o si la Cámara de origen rechazare el proyecto \n",
      "de esa comisión, el Presidente de la República podrá pedir que esa Cámara se pronuncie sobre \n",
      "si insiste por l os dos tercios de sus miembros presentes en el proyecto que aprobó en el primer \n",
      "trámite. Acordada la insistencia, el proyecto pasará por segunda vez a la Cámara que lo \n",
      "desechó, y solo se entenderá que lo reprueba si concurren para ello las dos terceras par tes de \n",
      "sus miembros presentes.  \n",
      " \n",
      "Artículo 8 5 \n",
      " \n",
      "1. El proyecto que fuere adicionado o enmendado por la Cámara revisora volverá a la de su \n",
      "origen, y en esta se entenderán aprobadas las adiciones y enmiendas con el quorum  que \n",
      "corresponda.\n"
     ]
    }
   ],
   "source": [
    "for resp in responses:\n",
    "    print (resp.metadata['page'])\n",
    "    print(resp.page_content[:1000])\n"
   ]
  },
  {
   "cell_type": "code",
   "execution_count": 52,
   "metadata": {},
   "outputs": [],
   "source": [
    "vectordb.persist()"
   ]
  },
  {
   "cell_type": "code",
   "execution_count": 53,
   "metadata": {},
   "outputs": [
    {
     "name": "stdout",
     "output_type": "stream",
     "text": [
      "884\n"
     ]
    }
   ],
   "source": [
    "print(vectordb._collection.count())"
   ]
  },
  {
   "cell_type": "code",
   "execution_count": 60,
   "metadata": {},
   "outputs": [],
   "source": [
    "docs_mmr = vectordb.max_marginal_relevance_search(question,k=8)"
   ]
  },
  {
   "cell_type": "code",
   "execution_count": 61,
   "metadata": {},
   "outputs": [
    {
     "name": "stdout",
     "output_type": "stream",
     "text": [
      "35\n",
      "36 \n",
      "  \n",
      "En los casos en que el Estado sea objeto de una demanda o denuncia ante \n",
      "organismos internacionales por presuntas vulneraciones de los tratados \n",
      "internacionales aprobados por el Congreso Nacional conforme a este artículo, y \n",
      "respecto de la cual el Presidente de la República tenga la intención de celebrar o \n",
      "acceder a un acuerdo o solución alternativa, deberá ser informado  a ambas \n",
      "cámaras, antes de su conclusión, para su conocimiento. Con todo, el Presidente \n",
      "de la República no podrá transigir o acordar la realiz ación de acciones o adopción \n",
      "de medidas que excedan de las facultades que la Constitución le otorga.  \n",
      " \n",
      "b) Pronunciarse, cuando corresponda, respecto de los estados de excepción \n",
      "constitucional, en la forma prescrita por esta Constitución.  \n",
      " \n",
      " \n",
      "Funcionamiento de l Congreso Nacional  \n",
      " \n",
      "Artículo 61  \n",
      " \n",
      "1. El Congreso Nacional se instalará e iniciará su período de sesiones en la forma que \n",
      "determine su ley institucional.  \n",
      " \n",
      "2. En todo caso, se entenderá siempre convo\n",
      "33\n",
      "originan son o no fundados. En este caso, se entenderá que el Presidente ha cesado en \n",
      "su cargo de sde el instante en que manifestare su renuncia y por el solo mérito de su \n",
      "presentación.  \n",
      " \n",
      "h) Dar su dictamen al Presidente de la República en los casos en que este lo solicite.  \n",
      " \n",
      "2. El Senado, sus comisiones y sus demás órganos, incluidos los comités parlame ntarios si \n",
      "los hubiere, no podrán fiscalizar los actos del Gobierno ni de las entidades que de él \n",
      "dependan, ni adoptar acuerdos que impliquen fiscalización.  \n",
      " \n",
      " \n",
      "Atribuciones exclusivas del Congreso Nacional  \n",
      " \n",
      "Artículo 60  \n",
      " \n",
      "Son atribuciones del Congreso Nacional:  \n",
      " \n",
      "a) Aprobar o desechar los tratados internacionales que le presentare el Presidente de la \n",
      "República antes de su ratificación. La aprobación de un tratado se someterá, en lo\n",
      "44\n",
      "los miembros presentes en cada una de ellas , salvo que conforme a esta Constitución s e \n",
      "establezca un quorum  distinto para su aprobación.  \n",
      " \n",
      "2. Si la comisión mixta no llegare a acuerdo, o si la Cámara de origen rechazare el proyecto \n",
      "de esa comisión, el Presidente de la República podrá pedir que esa Cámara se pronuncie sobre \n",
      "si insiste por l os dos tercios de sus miembros presentes en el proyecto que aprobó en el primer \n",
      "trámite. Acordada la insistencia, el proyecto pasará por segunda vez a la Cámara que lo \n",
      "desechó, y solo se entenderá que lo reprueba si concurren para ello las dos terceras par tes de \n",
      "sus miembros presentes.  \n",
      " \n",
      "Artículo 8 5 \n",
      " \n",
      "1. El proyecto que fuere adicionado o enmendado por la Cámara revisora volverá a la de su \n",
      "origen, y en esta se entenderán aprobadas las adiciones y enmiendas con el quorum  que \n",
      "corresponda.\n",
      "93\n",
      "objeto de insistencia.  \n",
      " \n",
      "6. La ley institucional relativa al Congreso Nacional regulará en lo demás lo concerniente a \n",
      "los vetos d e los proyectos de reforma y a su tramitación.  \n",
      " \n",
      "Artículo 21 7 \n",
      " \n",
      "1. La convocatoria a referendo deberá efectuarse dentro de los treinta días siguientes a aquel \n",
      "en que ambas Cámaras insistan en el proyecto aprobado por ellas y se ordenará mediante \n",
      "decreto supr emo que fijará la fecha de la votación, la que se celebrará ciento veinte días \n",
      "después de la publicación de dicho decreto si ese día correspondiere a un domingo. Si así no \n",
      "fuere, ella se realizará el domingo inmediatamente siguiente. Transcurrido este plaz o sin que\n",
      "43\n",
      "y senadores en ejercicio.  \n",
      " \n",
      "4. Las demás normas legales requerirán la mayoría de los miembros presentes de cada \n",
      "Cámara, o las mayorías que sean aplicables conforme a los artículos 82 y siguientes.  \n",
      " \n",
      "Artículo 8 1 \n",
      " \n",
      "1. El proyecto de Ley de  Presupuestos deberá ser presentado por el Presidente de la República \n",
      "al Congreso Nacional, no después  del 15 de septiembre de cada año; y si el Congreso no lo \n",
      "despachare dentro de los sesenta días contados desde su presentación, regirá el proyecto \n",
      "presentado por el Presidente de la República.  \n",
      " \n",
      "2. El Congreso Nacional no podrá aumentar ni disminuir la estimaci ón de los ingresos; solo \n",
      "podrá reducir los gastos contenidos en el proyecto de Ley de Presupuestos, salvo los que \n",
      "estén establecidos por ley permanente.  \n",
      " \n",
      "3. La Ley de Presupuestos podrá modificar leyes permanentes solo cuando tales \n",
      "modificaciones provengan  del mensaje o indicaciones presentadas por el Presidente de la\n",
      "35\n",
      "interna de la ley.  \n",
      " \n",
      "Artículo 6 2 \n",
      " \n",
      "1. La C ámara de Diputadas y Diputados y el Senado no podrán entrar en sesión ni adoptar \n",
      "acuerdos sin la concurrencia de la tercera parte de sus miembros en ejercicio.  \n",
      " \n",
      "2. Cada una de las Cámaras establecerá en su propio reglamento la clausura del debate por \n",
      "simpl e mayoría.  \n",
      " \n",
      "Artículo 63  \n",
      " \n",
      "1. Durante el mes de julio de cada año, el Presidente del Senado y el Presidente de la Cámara \n",
      "de Diputadas y Diputados  darán cuenta pública al país, en sesión del Congreso Pleno, de las \n",
      "actividades realizadas por las Corporaciones que presiden.  \n",
      " \n",
      "2. El reglamento de cada Cámara determinará el contenido de dicha cuenta y regulará la \n",
      "forma de cumplir esta obligación.  \n",
      " \n",
      "Artícu lo 64  \n",
      " \n",
      "Los ministros de Estado, que acuerde la Cámara de Diputadas y Diputados, o bien el Senado, \n",
      "deberán concurrir al inicio de la legislatura, a la comisión respectiva, para exponer la agenda \n",
      "legislativa de su cartera para el año.  \n",
      " \n",
      "Artículo 6 5 \n",
      " \n",
      "Existirá una ofic\n",
      "28\n",
      "Artículo 5 1 \n",
      " \n",
      "1. El gobernador regional  o el alcalde , consultará a los ciudadanos de su región o comuna \n",
      "sobre sus prioridades presupuestarias. Esta consulta no será vinculan te. \n",
      " \n",
      "2. La ley determinará las oportunidades y forma de la convocatoria de dichas consultas, la \n",
      "que deberá realizarse al menos una vez por cada mandato regional o municipal.  \n",
      " \n",
      " \n",
      " \n",
      "CAPÍTULO IV  \n",
      " \n",
      "CONGRESO NACIONAL  \n",
      " \n",
      "Artículo 52  \n",
      " \n",
      "1. El Congreso Nacional se compone de dos ramas: la Cámara de Diputadas y Diputados y \n",
      "el Senado. Ambas concurren a la formación de las leyes en conformidad con esta \n",
      "Constitución y tienen las demás atribuciones que ella establece.  \n",
      " \n",
      "2. La ley podrá establecer mecanismos para promover la participación política de los pueblos \n",
      "indígenas en el Congreso Nacional.  \n",
      " \n",
      " \n",
      "Composición de la Cámara de Diputadas y Diputados y del Senado  \n",
      " \n",
      "Artículo 53  \n",
      " \n",
      "1. La Cámara de Diputadas y Diputados está integrada por miembros  elegidos en votación \n",
      "directa por distritos electorales. La l\n",
      "94\n",
      "95 \n",
      "  \n",
      "el Presidente de la República convoque a referendo, se promulgará el proyecto que hubiere \n",
      "aprobado el Congreso Nacional.  \n",
      " \n",
      "2. El decreto de convocatoria contendrá, según corresponda, el proyecto aprobado por ambas \n",
      "Cámaras y vetado totalmente por e l Presidente de la República, o las cuestiones del proyecto \n",
      "en las cuales el Congreso haya insistido, según lo dispuesto en los incisos 4 y 5 del artículo \n",
      "anterior. En este último caso, cada una de las cuestiones en desacuerdo deberá ser votada \n",
      "separadamen te en el referendo.  \n",
      " \n",
      "3. El Tribunal Calificador de Elecciones comunicará al Presidente de la República el \n",
      "resultado del referendo y especificará el texto del proyecto aprobado por la ciudadanía, el \n",
      "que deberá ser promulgado como reforma constitucional dent ro de los cinco días siguientes \n",
      "a dicha comunicación.  \n",
      " \n",
      "4. Una vez promulgado el proyecto y desde la fecha de su vigencia, sus disposiciones \n",
      "formarán parte de la Constitución y se tendrán por incorporadas a esta.  \n",
      "\n"
     ]
    }
   ],
   "source": [
    "for resp in docs_mmr:\n",
    "    print (resp.metadata['page'])\n",
    "    print(resp.page_content[:1000])"
   ]
  },
  {
   "cell_type": "code",
   "execution_count": 1,
   "metadata": {},
   "outputs": [
    {
     "data": {
      "text/plain": [
       "64"
      ]
     },
     "execution_count": 1,
     "metadata": {},
     "output_type": "execute_result"
    }
   ],
   "source": [
    "len(\"c2023-lapplb-kxji7dzouism-1990820049.us-east-1.elb.amazonaws.com\")"
   ]
  },
  {
   "cell_type": "code",
   "execution_count": null,
   "metadata": {},
   "outputs": [],
   "source": []
  }
 ],
 "metadata": {
  "kernelspec": {
   "display_name": ".venv",
   "language": "python",
   "name": "python3"
  },
  "language_info": {
   "codemirror_mode": {
    "name": "ipython",
    "version": 3
   },
   "file_extension": ".py",
   "mimetype": "text/x-python",
   "name": "python",
   "nbconvert_exporter": "python",
   "pygments_lexer": "ipython3",
   "version": "3.11.5"
  }
 },
 "nbformat": 4,
 "nbformat_minor": 2
}
